{
  "nbformat": 4,
  "nbformat_minor": 0,
  "metadata": {
    "colab": {
      "name": "CNN implementation for Cifar10 data set in keras (TF).ipynb",
      "provenance": [],
      "collapsed_sections": [],
      "mount_file_id": "1QHx6dz1LLMU8sqTRdYEZS1OXGRuEdfFp",
      "authorship_tag": "ABX9TyOeGQaEUQBFIEdQtD7/UkLL",
      "include_colab_link": true
    },
    "kernelspec": {
      "name": "python3",
      "display_name": "Python 3"
    },
    "language_info": {
      "name": "python"
    }
  },
  "cells": [
    {
      "cell_type": "markdown",
      "metadata": {
        "id": "view-in-github",
        "colab_type": "text"
      },
      "source": [
        "<a href=\"https://colab.research.google.com/github/Abdulhamid97Mousa/Hierarchical_Diagnosis_BearingFaults_B_CNN/blob/main/CNN_implementation_for_Cifar10_data_set_in_keras_(TF).ipynb\" target=\"_parent\"><img src=\"https://colab.research.google.com/assets/colab-badge.svg\" alt=\"Open In Colab\"/></a>"
      ]
    },
    {
      "cell_type": "code",
      "execution_count": 3,
      "metadata": {
        "id": "TR37FIzXT14d"
      },
      "outputs": [],
      "source": [
        "import os, cv2\n",
        "import numpy as np\n",
        "import matplotlib.pyplot as plt\n",
        "\n",
        "import sklearn\n",
        "from sklearn.utils import shuffle\n",
        "from sklearn.model_selection import train_test_split\n",
        "\n",
        "import tensorflow.keras.backend as K\n",
        "from keras.utils import np_utils\n",
        "from keras.models import Sequential\n",
        "from keras.layers.core import Dense, Dropout, Activation, Flatten\n",
        "from keras.layers.convolutional import Convolution2D, MaxPooling2D\n",
        "from tensorflow.keras.optimizers import Adam\n",
        "from tensorflow.keras.optimizers import RMSprop, SGD"
      ]
    },
    {
      "cell_type": "code",
      "source": [
        "import errno, os\n",
        "import requests\n",
        "import scipy.io as sio\n",
        "import numpy as np\n",
        "from os import listdir\n",
        "from os.path import isfile, join\n",
        "from zipfile import ZipFile \n",
        "from sklearn.model_selection import train_test_split"
      ],
      "metadata": {
        "id": "w771EbFajuk0"
      },
      "execution_count": 4,
      "outputs": []
    },
    {
      "cell_type": "code",
      "source": [
        "PATH = os.getcwd()\n",
        "# Define data path\n",
        "data_path = '/content/drive/MyDrive/Data' + '/Keras_tutorial'\n",
        "data_dir_list = os.listdir(data_path)\n",
        "print(data_dir_list)"
      ],
      "metadata": {
        "colab": {
          "base_uri": "https://localhost:8080/"
        },
        "id": "2OTJvNg-msJ4",
        "outputId": "80ad62ab-94be-4cc4-9582-87b1ddb0e2d5"
      },
      "execution_count": 5,
      "outputs": [
        {
          "output_type": "stream",
          "name": "stdout",
          "text": [
            "['humans', 'horses', 'dogs', 'cats']\n"
          ]
        }
      ]
    },
    {
      "cell_type": "code",
      "source": [
        "img_rows=128\n",
        "img_cols=128\n",
        "num_channel=1\n",
        "\n",
        "# Define the number of classes\n",
        "num_classes = 4\n",
        "\n",
        "labels_name={'cats':0,'dogs':1,'horses':2,'humans':3}\n",
        "\n",
        "img_data_list=[]\n",
        "labels_list = []\n",
        "\n",
        "for dataset in data_dir_list:\n",
        "\timg_list=os.listdir(data_path+'/'+ dataset)\n",
        "\tprint ('Loading the images of dataset-'+'{}\\n'.format(dataset))\n",
        "\tlabel = labels_name[dataset]\n",
        "\tfor img in img_list:\n",
        "\t\tinput_img=cv2.imread(data_path + '/'+ dataset + '/'+ img )\n",
        "\t\tinput_img=cv2.cvtColor(input_img, cv2.COLOR_BGR2GRAY)\n",
        "\t\tinput_img_resize=cv2.resize(input_img,(128,128))\n",
        "\t\timg_data_list.append(input_img_resize)\n",
        "\t\tlabels_list.append(label)\n",
        "\n",
        "img_data = np.array(img_data_list)\n",
        "img_data = img_data.astype('float32')\n",
        "img_data /= 255\n",
        "print (img_data.shape)"
      ],
      "metadata": {
        "colab": {
          "base_uri": "https://localhost:8080/"
        },
        "id": "brQjt6DBm9Y_",
        "outputId": "ee93a189-6b35-47b2-be2e-aeabe12c8829"
      },
      "execution_count": 113,
      "outputs": [
        {
          "output_type": "stream",
          "name": "stdout",
          "text": [
            "Loading the images of dataset-humans\n",
            "\n",
            "Loading the images of dataset-horses\n",
            "\n",
            "Loading the images of dataset-dogs\n",
            "\n",
            "Loading the images of dataset-cats\n",
            "\n",
            "(818, 128, 128)\n"
          ]
        }
      ]
    },
    {
      "cell_type": "code",
      "source": [
        "labels = np.array(labels_list)\n",
        "# print the count of number of samples for different classes\n",
        "print(np.unique(labels,return_counts=True))\n",
        "# convert class labels to on-hot encoding\n",
        "Y = np_utils.to_categorical(labels, num_classes)\n",
        "print(Y)"
      ],
      "metadata": {
        "colab": {
          "base_uri": "https://localhost:8080/"
        },
        "id": "6_jOxPsZVxcf",
        "outputId": "63d4b6d7-4385-4d68-f20f-cd43319c553f"
      },
      "execution_count": 114,
      "outputs": [
        {
          "output_type": "stream",
          "name": "stdout",
          "text": [
            "(array([0, 1, 2, 3]), array([202, 202, 212, 202]))\n",
            "[[0. 0. 0. 1.]\n",
            " [0. 0. 0. 1.]\n",
            " [0. 0. 0. 1.]\n",
            " ...\n",
            " [1. 0. 0. 0.]\n",
            " [1. 0. 0. 0.]\n",
            " [1. 0. 0. 0.]]\n"
          ]
        }
      ]
    },
    {
      "cell_type": "code",
      "source": [
        "#Shuffle the dataset\n",
        "x,y = shuffle(img_data,Y, random_state=2)\n",
        "# Split the dataset\n",
        "X_train, X_test, y_train, y_test = train_test_split(x, y, test_size=0.2, random_state=2)"
      ],
      "metadata": {
        "id": "UEvyWrdfl0Gv"
      },
      "execution_count": 115,
      "outputs": []
    },
    {
      "cell_type": "code",
      "source": [
        "print(f\"X_train.shape: {X_train.shape}, X_test.shape: {X_test.shape}\")\n",
        "print(f\"y_train.shape: {y_train.shape}, y_test.shape: {y_test.shape}\")"
      ],
      "metadata": {
        "colab": {
          "base_uri": "https://localhost:8080/"
        },
        "id": "2qcDPzmzovfn",
        "outputId": "f007239d-4f0b-47f1-a567-1904d3dbf145"
      },
      "execution_count": 116,
      "outputs": [
        {
          "output_type": "stream",
          "name": "stdout",
          "text": [
            "X_train.shape: (654, 128, 128), X_test.shape: (164, 128, 128)\n",
            "y_train.shape: (654, 4), y_test.shape: (164, 4)\n"
          ]
        }
      ]
    },
    {
      "cell_type": "code",
      "source": [
        "if num_channel==1:\n",
        "\tif K.image_data_format() =='th':\n",
        "\t\timg_data= np.expand_dims(img_data, axis=1) \n",
        "\t\tprint(img_data.shape)\n",
        "\telse:\n",
        "\t\timg_data= np.expand_dims(img_data, axis=3) \n",
        "\t\tprint(img_data.shape)\n"
      ],
      "metadata": {
        "colab": {
          "base_uri": "https://localhost:8080/"
        },
        "id": "CwSpe7Q2l3wp",
        "outputId": "b4ace6cf-ef98-4ad3-dd33-89660a7914a7"
      },
      "execution_count": 117,
      "outputs": [
        {
          "output_type": "stream",
          "name": "stdout",
          "text": [
            "(818, 128, 128, 1)\n"
          ]
        }
      ]
    },
    {
      "cell_type": "code",
      "source": [
        "USE_SKLEARN_PREPROCESSING=False\n",
        "\n",
        "if USE_SKLEARN_PREPROCESSING:\n",
        "\t# using sklearn for preprocessing\n",
        "\tfrom sklearn import preprocessing\n",
        "\t\n",
        "\tdef image_to_feature_vector(image, size=(128, 128)):\n",
        "\t\t# resize the image to a fixed size, then flatten the image into\n",
        "\t\t# a list of raw pixel intensities\n",
        "\t\treturn cv2.resize(image, size).flatten()\n",
        "\t\n",
        "\timg_data_list=[]\n",
        "\tfor dataset in data_dir_list:\n",
        "\t\timg_list=os.listdir(data_path+'/'+ dataset)\n",
        "\t\tprint ('Loaded the images of dataset-'+'{}\\n'.format(dataset))\n",
        "\t\tfor img in img_list:\n",
        "\t\t\tinput_img=cv2.imread(data_path + '/'+ dataset + '/'+ img )\n",
        "\t\t\tinput_img=cv2.cvtColor(input_img, cv2.COLOR_BGR2GRAY)\n",
        "\t\t\tinput_img_flatten=image_to_feature_vector(input_img,(128,128))\n",
        "\t\t\timg_data_list.append(input_img_flatten)\n",
        "\t\n",
        "\timg_data = np.array(img_data_list)\n",
        "\timg_data = img_data.astype('float32')\n",
        "\tprint (img_data.shape)\n",
        "\timg_data_scaled = preprocessing.scale(img_data)\n",
        "\tprint (img_data_scaled.shape)\n",
        "\t\n",
        "\tprint (np.mean(img_data_scaled))\n",
        "\tprint (np.std(img_data_scaled))\n",
        "\t\n",
        "\tprint (img_data_scaled.mean(axis=0))\n",
        "\tprint (img_data_scaled.std(axis=0))\n",
        "\t\n",
        "\tif K.image_dim_ordering()=='th':\n",
        "\t\timg_data_scaled=img_data_scaled.reshape(img_data.shape[0],num_channel,img_rows,img_cols)\n",
        "\t\tprint (img_data_scaled.shape)\n",
        "\t\t\n",
        "\telse:\n",
        "\t\timg_data_scaled=img_data_scaled.reshape(img_data.shape[0],img_rows,img_cols,num_channel)\n",
        "\t\tprint (img_data_scaled.shape)\n",
        "\t\n",
        "\t\n",
        "\tif K.image_dim_ordering()=='th':\n",
        "\t\timg_data_scaled=img_data_scaled.reshape(img_data.shape[0],num_channel,img_rows,img_cols)\n",
        "\t\tprint (img_data_scaled.shape)\n",
        "\t\t\n",
        "\telse:\n",
        "\t\timg_data_scaled=img_data_scaled.reshape(img_data.shape[0],img_rows,img_cols,num_channel)\n",
        "\t\tprint (img_data_scaled.shape)\n",
        "\n",
        "if USE_SKLEARN_PREPROCESSING:\n",
        "\timg_data=img_data_scaled"
      ],
      "metadata": {
        "id": "8ohR5CcHl8vZ"
      },
      "execution_count": 118,
      "outputs": []
    },
    {
      "cell_type": "code",
      "source": [
        "# Defining the model\n",
        "input_shape=img_data[0].shape\n",
        "\t\t\t\t\t\n",
        "model = Sequential()\n",
        "\n",
        "model.add(Convolution2D(32, 3,3,padding='same',input_shape=input_shape))\n",
        "model.add(Activation('relu'))\n",
        "model.add(Convolution2D(32, 3, 3))\n",
        "model.add(Activation('relu'))\n",
        "model.add(MaxPooling2D(pool_size=(2, 2)))\n",
        "model.add(Dropout(0.5))\n",
        "\n",
        "model.add(Convolution2D(64, 3, 3))\n",
        "model.add(Activation('relu'))\n",
        "#model.add(Convolution2D(64, 3, 3))\n",
        "#model.add(Activation('relu'))\n",
        "model.add(MaxPooling2D(pool_size=(2, 2)))\n",
        "model.add(Dropout(0.5))\n",
        "\n",
        "model.add(Flatten())\n",
        "model.add(Dense(64))\n",
        "model.add(Activation('relu'))\n",
        "model.add(Dropout(0.5))\n",
        "model.add(Dense(num_classes))\n",
        "model.add(Activation('softmax'))\n",
        "\n",
        "#sgd = SGD(lr=0.01, decay=1e-6, momentum=0.9, nesterov=True)\n",
        "#model.compile(loss='categorical_crossentropy', optimizer=sgd,metrics=[\"accuracy\"])\n",
        "model.compile(loss='categorical_crossentropy', optimizer='rmsprop',metrics=[\"accuracy\"])"
      ],
      "metadata": {
        "id": "Ri_gsKF0mCHA"
      },
      "execution_count": 119,
      "outputs": []
    },
    {
      "cell_type": "code",
      "source": [
        "# Viewing model_configuration\n",
        "\n",
        "model.summary()\n",
        "model.get_config()\n",
        "model.layers[0].get_config()\n",
        "model.layers[0].input_shape\t\t\t\n",
        "model.layers[0].output_shape\t\t\t\n",
        "model.layers[0].get_weights()\n",
        "np.shape(model.layers[0].get_weights()[0])\n",
        "model.layers[0].trainable"
      ],
      "metadata": {
        "colab": {
          "base_uri": "https://localhost:8080/"
        },
        "id": "jqI4pV_pr9IH",
        "outputId": "b055c86e-dda6-4a5a-fde7-d698132f40fe"
      },
      "execution_count": 120,
      "outputs": [
        {
          "output_type": "stream",
          "name": "stdout",
          "text": [
            "Model: \"sequential_1\"\n",
            "_________________________________________________________________\n",
            " Layer (type)                Output Shape              Param #   \n",
            "=================================================================\n",
            " conv2d_3 (Conv2D)           (None, 43, 43, 32)        320       \n",
            "                                                                 \n",
            " activation_5 (Activation)   (None, 43, 43, 32)        0         \n",
            "                                                                 \n",
            " conv2d_4 (Conv2D)           (None, 14, 14, 32)        9248      \n",
            "                                                                 \n",
            " activation_6 (Activation)   (None, 14, 14, 32)        0         \n",
            "                                                                 \n",
            " max_pooling2d_2 (MaxPooling  (None, 7, 7, 32)         0         \n",
            " 2D)                                                             \n",
            "                                                                 \n",
            " dropout_3 (Dropout)         (None, 7, 7, 32)          0         \n",
            "                                                                 \n",
            " conv2d_5 (Conv2D)           (None, 2, 2, 64)          18496     \n",
            "                                                                 \n",
            " activation_7 (Activation)   (None, 2, 2, 64)          0         \n",
            "                                                                 \n",
            " max_pooling2d_3 (MaxPooling  (None, 1, 1, 64)         0         \n",
            " 2D)                                                             \n",
            "                                                                 \n",
            " dropout_4 (Dropout)         (None, 1, 1, 64)          0         \n",
            "                                                                 \n",
            " flatten_1 (Flatten)         (None, 64)                0         \n",
            "                                                                 \n",
            " dense_2 (Dense)             (None, 64)                4160      \n",
            "                                                                 \n",
            " activation_8 (Activation)   (None, 64)                0         \n",
            "                                                                 \n",
            " dropout_5 (Dropout)         (None, 64)                0         \n",
            "                                                                 \n",
            " dense_3 (Dense)             (None, 4)                 260       \n",
            "                                                                 \n",
            " activation_9 (Activation)   (None, 4)                 0         \n",
            "                                                                 \n",
            "=================================================================\n",
            "Total params: 32,484\n",
            "Trainable params: 32,484\n",
            "Non-trainable params: 0\n",
            "_________________________________________________________________\n"
          ]
        },
        {
          "output_type": "execute_result",
          "data": {
            "text/plain": [
              "True"
            ]
          },
          "metadata": {},
          "execution_count": 120
        }
      ]
    },
    {
      "cell_type": "code",
      "source": [
        "# Training\n",
        "num_epoch=15\n",
        "hist = model.fit(X_train, y_train, batch_size=16, epochs=num_epoch, verbose=1, validation_data=(X_test, y_test))\n",
        "\n",
        "#hist = model.fit(X_train, y_train, batch_size=32, nb_epoch=20,verbose=1, validation_split=0.2)"
      ],
      "metadata": {
        "colab": {
          "base_uri": "https://localhost:8080/"
        },
        "id": "R4gmJQOxsBmp",
        "outputId": "52b264c7-bec8-4abc-82ea-8dfef9c16e44"
      },
      "execution_count": 121,
      "outputs": [
        {
          "output_type": "stream",
          "name": "stdout",
          "text": [
            "Epoch 1/15\n",
            "41/41 [==============================] - 2s 29ms/step - loss: 1.3951 - accuracy: 0.2385 - val_loss: 1.3883 - val_accuracy: 0.2256\n",
            "Epoch 2/15\n",
            "41/41 [==============================] - 1s 24ms/step - loss: 1.3866 - accuracy: 0.2630 - val_loss: 1.3871 - val_accuracy: 0.2378\n",
            "Epoch 3/15\n",
            "41/41 [==============================] - 1s 24ms/step - loss: 1.3844 - accuracy: 0.2768 - val_loss: 1.3881 - val_accuracy: 0.2256\n",
            "Epoch 4/15\n",
            "41/41 [==============================] - 1s 24ms/step - loss: 1.3831 - accuracy: 0.2615 - val_loss: 1.3840 - val_accuracy: 0.2805\n",
            "Epoch 5/15\n",
            "41/41 [==============================] - 1s 24ms/step - loss: 1.3870 - accuracy: 0.2385 - val_loss: 1.3843 - val_accuracy: 0.2927\n",
            "Epoch 6/15\n",
            "41/41 [==============================] - 1s 25ms/step - loss: 1.3797 - accuracy: 0.2706 - val_loss: 1.3915 - val_accuracy: 0.2317\n",
            "Epoch 7/15\n",
            "41/41 [==============================] - 1s 24ms/step - loss: 1.3805 - accuracy: 0.2752 - val_loss: 1.3796 - val_accuracy: 0.2500\n",
            "Epoch 8/15\n",
            "41/41 [==============================] - 1s 24ms/step - loss: 1.3733 - accuracy: 0.2768 - val_loss: 1.3762 - val_accuracy: 0.2561\n",
            "Epoch 9/15\n",
            "41/41 [==============================] - 1s 25ms/step - loss: 1.3747 - accuracy: 0.3058 - val_loss: 1.3677 - val_accuracy: 0.3598\n",
            "Epoch 10/15\n",
            "41/41 [==============================] - 1s 24ms/step - loss: 1.3591 - accuracy: 0.3242 - val_loss: 1.3599 - val_accuracy: 0.3415\n",
            "Epoch 11/15\n",
            "41/41 [==============================] - 1s 24ms/step - loss: 1.3450 - accuracy: 0.3563 - val_loss: 1.3612 - val_accuracy: 0.3232\n",
            "Epoch 12/15\n",
            "41/41 [==============================] - 1s 24ms/step - loss: 1.3340 - accuracy: 0.3639 - val_loss: 1.3321 - val_accuracy: 0.4390\n",
            "Epoch 13/15\n",
            "41/41 [==============================] - 1s 24ms/step - loss: 1.3167 - accuracy: 0.3853 - val_loss: 1.3160 - val_accuracy: 0.4207\n",
            "Epoch 14/15\n",
            "41/41 [==============================] - 1s 24ms/step - loss: 1.2933 - accuracy: 0.4205 - val_loss: 1.3003 - val_accuracy: 0.4268\n",
            "Epoch 15/15\n",
            "41/41 [==============================] - 1s 24ms/step - loss: 1.2927 - accuracy: 0.4297 - val_loss: 1.2925 - val_accuracy: 0.4512\n"
          ]
        }
      ]
    },
    {
      "cell_type": "code",
      "source": [
        "train_loss = hist.history['loss']\n",
        "val_loss = hist.history['val_loss']\n",
        "train_acc = hist.history['accuracy']\n",
        "val_acc = hist.history['val_accuracy']\n",
        "\n",
        "xc=range(num_epoch)\n",
        "\n",
        "plt.figure(1, figsize=(6,4))\n",
        "plt.plot(xc, train_loss)\n",
        "plt.plot(xc, val_loss)\n",
        "plt.xlabel('num of epochs')\n",
        "plt.ylabel('loss')\n",
        "plt.title('train_loss vs val_loss')\n",
        "plt.grid(True)\n",
        "plt.legend(['train', 'val'])\n",
        "plt.style.use(['classic'])\n",
        "\n",
        "plt.figure(2, figsize=(6,4))\n",
        "plt.plot(xc,train_acc)\n",
        "plt.plot(xc, val_acc)\n",
        "plt.xlabel('num_epochs')\n",
        "plt.ylabel('accuracy')\n",
        "plt.title('train_acc vs val_acc')\n",
        "plt.grid(True)\n",
        "plt.legend([\"train\", 'val'], loc=4)\n",
        "plt.style.use(['classic'])"
      ],
      "metadata": {
        "colab": {
          "base_uri": "https://localhost:8080/",
          "height": 667
        },
        "id": "gdH6XvVB8Voo",
        "outputId": "b3a605fb-5bd4-4b8c-f669-6ffe1e77b8a7"
      },
      "execution_count": 122,
      "outputs": [
        {
          "output_type": "display_data",
          "data": {
            "text/plain": [
              "<Figure size 480x320 with 1 Axes>"
            ],
            "image/png": "[encoded data removed]"
          },
          "metadata": {}
        },
        {
          "output_type": "display_data",
          "data": {
            "text/plain": [
              "<Figure size 480x320 with 1 Axes>"
            ],
            "image/png": "[encoded data removed]"
          },
          "metadata": {}
        }
      ]
    },
    {
      "cell_type": "code",
      "source": [
        "import tensorflow\n",
        "from tensorflow.keras import callbacks\n",
        "from tensorflow.keras.callbacks import ModelCheckpoint"
      ],
      "metadata": {
        "id": "qZZdp5uF_7oO"
      },
      "execution_count": 123,
      "outputs": []
    },
    {
      "cell_type": "code",
      "source": [
        "filename='/content/drive/MyDrive/DataFrames/Keras_model_train_new.csv'\n",
        "\n",
        "csv_log = callbacks.CSVLogger(filename, separator=',', append=False)\n",
        "\n",
        "early_stopping = callbacks.EarlyStopping(monitor='val_loss', min_delta=0, patience=3, verbose=1, mode='min')\n",
        "\n",
        "\n",
        "class CustomCallback(tensorflow.keras.callbacks.Callback):\n",
        "    def on_epoch_end(self, epoch, logs=None):\n",
        "        logs.update({'lr': K.eval(self.model.optimizer.lr)})\n",
        "        keys = list(logs.keys())\n",
        "        print(\"Log keys: {}\".format(keys)) #you will see now `lr` available\n",
        "\n",
        "filepath = \"/content/drive/MyDrive/Keras_files_callbacks/Best-weights-my_model-{epoch:03d}-{loss:.4f}-{accuracy:.4f}.hdf5\"\n",
        "\n",
        "checkpoint = callbacks.ModelCheckpoint(filepath, monitor='val_loss', verbose=1, save_best_only=True, mode='min')\n",
        "\n",
        "callbacks_list = [csv_log, early_stopping, checkpoint]\n",
        "\n",
        "num_epoch = 20\n",
        "\n",
        "hist = model.fit(X_train, y_train, batch_size=16, epochs =num_epoch, verbose=1, validation_data=(X_test, y_test),\n",
        "                 callbacks=callbacks_list)\n",
        "# [checkpoint, CustomCallback()]"
      ],
      "metadata": {
        "colab": {
          "base_uri": "https://localhost:8080/"
        },
        "id": "SBqjMa4TvU5k",
        "outputId": "284c731b-2404-4dac-e9b4-89b439284d63"
      },
      "execution_count": 124,
      "outputs": [
        {
          "output_type": "stream",
          "name": "stdout",
          "text": [
            "Epoch 1/20\n",
            "39/41 [===========================>..] - ETA: 0s - loss: 1.2850 - accuracy: 0.4135\n",
            "Epoch 1: val_loss improved from inf to 1.28360, saving model to /content/drive/MyDrive/Keras_files_callbacks/Best-weights-my_model-001-1.2829-0.4144.hdf5\n",
            "41/41 [==============================] - 1s 27ms/step - loss: 1.2829 - accuracy: 0.4144 - val_loss: 1.2836 - val_accuracy: 0.4573\n",
            "Epoch 2/20\n",
            "39/41 [===========================>..] - ETA: 0s - loss: 1.2528 - accuracy: 0.4551\n",
            "Epoch 2: val_loss improved from 1.28360 to 1.27821, saving model to /content/drive/MyDrive/Keras_files_callbacks/Best-weights-my_model-002-1.2539-0.4511.hdf5\n",
            "41/41 [==============================] - 1s 26ms/step - loss: 1.2539 - accuracy: 0.4511 - val_loss: 1.2782 - val_accuracy: 0.4573\n",
            "Epoch 3/20\n",
            "40/41 [============================>.] - ETA: 0s - loss: 1.2495 - accuracy: 0.4250\n",
            "Epoch 3: val_loss improved from 1.27821 to 1.26649, saving model to /content/drive/MyDrive/Keras_files_callbacks/Best-weights-my_model-003-1.2527-0.4281.hdf5\n",
            "41/41 [==============================] - 1s 26ms/step - loss: 1.2527 - accuracy: 0.4281 - val_loss: 1.2665 - val_accuracy: 0.4451\n",
            "Epoch 4/20\n",
            "41/41 [==============================] - ETA: 0s - loss: 1.2166 - accuracy: 0.4908\n",
            "Epoch 4: val_loss improved from 1.26649 to 1.25921, saving model to /content/drive/MyDrive/Keras_files_callbacks/Best-weights-my_model-004-1.2166-0.4908.hdf5\n",
            "41/41 [==============================] - 1s 26ms/step - loss: 1.2166 - accuracy: 0.4908 - val_loss: 1.2592 - val_accuracy: 0.4451\n",
            "Epoch 5/20\n",
            "39/41 [===========================>..] - ETA: 0s - loss: 1.1835 - accuracy: 0.4647\n",
            "Epoch 5: val_loss improved from 1.25921 to 1.24753, saving model to /content/drive/MyDrive/Keras_files_callbacks/Best-weights-my_model-005-1.1828-0.4679.hdf5\n",
            "41/41 [==============================] - 1s 26ms/step - loss: 1.1828 - accuracy: 0.4679 - val_loss: 1.2475 - val_accuracy: 0.4634\n",
            "Epoch 6/20\n",
            "40/41 [============================>.] - ETA: 0s - loss: 1.1827 - accuracy: 0.4953\n",
            "Epoch 6: val_loss did not improve from 1.24753\n",
            "41/41 [==============================] - 1s 25ms/step - loss: 1.1837 - accuracy: 0.4954 - val_loss: 1.2523 - val_accuracy: 0.4695\n",
            "Epoch 7/20\n",
            "39/41 [===========================>..] - ETA: 0s - loss: 1.1916 - accuracy: 0.4840\n",
            "Epoch 7: val_loss did not improve from 1.24753\n",
            "41/41 [==============================] - 1s 24ms/step - loss: 1.1907 - accuracy: 0.4832 - val_loss: 1.2537 - val_accuracy: 0.4756\n",
            "Epoch 8/20\n",
            "39/41 [===========================>..] - ETA: 0s - loss: 1.1797 - accuracy: 0.4663\n",
            "Epoch 8: val_loss improved from 1.24753 to 1.23858, saving model to /content/drive/MyDrive/Keras_files_callbacks/Best-weights-my_model-008-1.1798-0.4648.hdf5\n",
            "41/41 [==============================] - 1s 25ms/step - loss: 1.1798 - accuracy: 0.4648 - val_loss: 1.2386 - val_accuracy: 0.4268\n",
            "Epoch 9/20\n",
            "40/41 [============================>.] - ETA: 0s - loss: 1.1555 - accuracy: 0.5031\n",
            "Epoch 9: val_loss improved from 1.23858 to 1.22547, saving model to /content/drive/MyDrive/Keras_files_callbacks/Best-weights-my_model-009-1.1541-0.5000.hdf5\n",
            "41/41 [==============================] - 1s 26ms/step - loss: 1.1541 - accuracy: 0.5000 - val_loss: 1.2255 - val_accuracy: 0.4695\n",
            "Epoch 10/20\n",
            "41/41 [==============================] - ETA: 0s - loss: 1.1347 - accuracy: 0.4985\n",
            "Epoch 10: val_loss did not improve from 1.22547\n",
            "41/41 [==============================] - 1s 25ms/step - loss: 1.1347 - accuracy: 0.4985 - val_loss: 1.2670 - val_accuracy: 0.4390\n",
            "Epoch 11/20\n",
            "39/41 [===========================>..] - ETA: 0s - loss: 1.1161 - accuracy: 0.5080\n",
            "Epoch 11: val_loss did not improve from 1.22547\n",
            "41/41 [==============================] - 1s 25ms/step - loss: 1.1182 - accuracy: 0.5092 - val_loss: 1.2603 - val_accuracy: 0.4878\n",
            "Epoch 12/20\n",
            "40/41 [============================>.] - ETA: 0s - loss: 1.0955 - accuracy: 0.5234\n",
            "Epoch 12: val_loss improved from 1.22547 to 1.20822, saving model to /content/drive/MyDrive/Keras_files_callbacks/Best-weights-my_model-012-1.0969-0.5229.hdf5\n",
            "41/41 [==============================] - 1s 26ms/step - loss: 1.0969 - accuracy: 0.5229 - val_loss: 1.2082 - val_accuracy: 0.4817\n",
            "Epoch 13/20\n",
            "40/41 [============================>.] - ETA: 0s - loss: 1.1043 - accuracy: 0.5391\n",
            "Epoch 13: val_loss improved from 1.20822 to 1.20247, saving model to /content/drive/MyDrive/Keras_files_callbacks/Best-weights-my_model-013-1.1020-0.5382.hdf5\n",
            "41/41 [==============================] - 1s 26ms/step - loss: 1.1020 - accuracy: 0.5382 - val_loss: 1.2025 - val_accuracy: 0.4939\n",
            "Epoch 14/20\n",
            "40/41 [============================>.] - ETA: 0s - loss: 1.0960 - accuracy: 0.5328\n",
            "Epoch 14: val_loss did not improve from 1.20247\n",
            "41/41 [==============================] - 1s 25ms/step - loss: 1.0983 - accuracy: 0.5336 - val_loss: 1.2121 - val_accuracy: 0.4634\n",
            "Epoch 15/20\n",
            "41/41 [==============================] - ETA: 0s - loss: 1.0583 - accuracy: 0.5505\n",
            "Epoch 15: val_loss did not improve from 1.20247\n",
            "41/41 [==============================] - 1s 25ms/step - loss: 1.0583 - accuracy: 0.5505 - val_loss: 1.2093 - val_accuracy: 0.4695\n",
            "Epoch 16/20\n",
            "39/41 [===========================>..] - ETA: 0s - loss: 1.0803 - accuracy: 0.5304\n",
            "Epoch 16: val_loss improved from 1.20247 to 1.18664, saving model to /content/drive/MyDrive/Keras_files_callbacks/Best-weights-my_model-016-1.0842-0.5260.hdf5\n",
            "41/41 [==============================] - 1s 26ms/step - loss: 1.0842 - accuracy: 0.5260 - val_loss: 1.1866 - val_accuracy: 0.5000\n",
            "Epoch 17/20\n",
            "39/41 [===========================>..] - ETA: 0s - loss: 1.0494 - accuracy: 0.5481\n",
            "Epoch 17: val_loss did not improve from 1.18664\n",
            "41/41 [==============================] - 1s 24ms/step - loss: 1.0521 - accuracy: 0.5474 - val_loss: 1.1948 - val_accuracy: 0.4878\n",
            "Epoch 18/20\n",
            "39/41 [===========================>..] - ETA: 0s - loss: 1.0423 - accuracy: 0.5801\n",
            "Epoch 18: val_loss improved from 1.18664 to 1.18499, saving model to /content/drive/MyDrive/Keras_files_callbacks/Best-weights-my_model-018-1.0408-0.5795.hdf5\n",
            "41/41 [==============================] - 1s 26ms/step - loss: 1.0408 - accuracy: 0.5795 - val_loss: 1.1850 - val_accuracy: 0.4817\n",
            "Epoch 19/20\n",
            "39/41 [===========================>..] - ETA: 0s - loss: 1.0153 - accuracy: 0.5705\n",
            "Epoch 19: val_loss improved from 1.18499 to 1.17800, saving model to /content/drive/MyDrive/Keras_files_callbacks/Best-weights-my_model-019-1.0124-0.5688.hdf5\n",
            "41/41 [==============================] - 1s 26ms/step - loss: 1.0124 - accuracy: 0.5688 - val_loss: 1.1780 - val_accuracy: 0.4878\n",
            "Epoch 20/20\n",
            "41/41 [==============================] - ETA: 0s - loss: 1.0069 - accuracy: 0.5810\n",
            "Epoch 20: val_loss improved from 1.17800 to 1.15197, saving model to /content/drive/MyDrive/Keras_files_callbacks/Best-weights-my_model-020-1.0069-0.5810.hdf5\n",
            "41/41 [==============================] - 1s 26ms/step - loss: 1.0069 - accuracy: 0.5810 - val_loss: 1.1520 - val_accuracy: 0.5183\n"
          ]
        }
      ]
    },
    {
      "cell_type": "code",
      "source": [
        "# visualizing losses and accuracy\n",
        "train_loss=hist.history['loss']\n",
        "val_loss=hist.history['val_loss']\n",
        "train_acc=hist.history['accuracy']\n",
        "val_acc=hist.history['val_accuracy']\n",
        "xc=range(20)\n",
        "\n",
        "plt.figure(1,figsize=(7,5))\n",
        "plt.plot(xc,train_loss)\n",
        "plt.plot(xc,val_loss)\n",
        "plt.xlabel('num of Epochs')\n",
        "plt.ylabel('loss')\n",
        "plt.title('train_loss vs val_loss')\n",
        "plt.grid(True)\n",
        "plt.legend(['train','val'])\n",
        "#print plt.style.available # use bmh, classic,ggplot for big pictures\n",
        "plt.style.use(['classic'])\n",
        "\n",
        "plt.figure(2,figsize=(7,5))\n",
        "plt.plot(xc,train_acc)\n",
        "plt.plot(xc,val_acc)\n",
        "plt.xlabel('num of Epochs')\n",
        "plt.ylabel('accuracy')\n",
        "plt.title('train_acc vs val_acc')\n",
        "plt.grid(True)\n",
        "plt.legend(['train','val'],loc=4)\n",
        "#print plt.style.available # use bmh, classic,ggplot for big pictures\n",
        "plt.style.use(['classic'])"
      ],
      "metadata": {
        "colab": {
          "base_uri": "https://localhost:8080/",
          "height": 795
        },
        "id": "H8k6o6GgDJE6",
        "outputId": "9d8b9476-6c2b-464f-c7b7-6e5ebd091aeb"
      },
      "execution_count": 125,
      "outputs": [
        {
          "output_type": "display_data",
          "data": {
            "text/plain": [
              "<Figure size 560x400 with 1 Axes>"
            ],
            "image/png": "[encoded data removed]"
          },
          "metadata": {}
        },
        {
          "output_type": "display_data",
          "data": {
            "text/plain": [
              "<Figure size 560x400 with 1 Axes>"
            ],
            "image/png": "[encoded data removed]"
          },
          "metadata": {}
        }
      ]
    },
    {
      "cell_type": "code",
      "source": [
        "# Evaluating the model\n",
        "\n",
        "loss, accuracy = model.evaluate(X_test, y_test, verbose=0)\n",
        "print(\"Test fraction correct (Accuracy) = {:.2f}\".format(accuracy))\n",
        "print(\"Test fraction correct (loss) = {:.2f}\".format(loss))\n",
        "\n",
        "\n",
        "test_image = X_test[14:15]\n",
        "print(test_image.shape)\n",
        "\n",
        "predict_x = model.predict(test_image) \n",
        "\n",
        "classes_x = np.argmax(predict_x,axis=1)\n",
        "\n",
        "# predict_x =model.predict(X_test) \n",
        "\n",
        "# classes_x = np.argmax(predict_x,axis=1)\n",
        "print(predict_x)\n",
        "print(classes_x)\n",
        "# predictions = model.predict_classess(x_test)\n",
        "# print(model.predict_classes(classes_x))\n",
        "print(y_test[14:15])\n"
      ],
      "metadata": {
        "colab": {
          "base_uri": "https://localhost:8080/"
        },
        "id": "1euYppOgDXMk",
        "outputId": "e2074952-6ad7-4337-d7b7-cd0413274f91"
      },
      "execution_count": 184,
      "outputs": [
        {
          "output_type": "stream",
          "name": "stdout",
          "text": [
            "Test fraction correct (Accuracy) = 0.52\n",
            "Test fraction correct (loss) = 1.15\n",
            "(1, 128, 128)\n",
            "[[0.1115351  0.15533781 0.6909011  0.04222598]]\n",
            "[2]\n",
            "[[0. 0. 1. 0.]]\n"
          ]
        }
      ]
    },
    {
      "cell_type": "code",
      "source": [
        "# Testing a new image\n",
        "test_image_1 = cv2.imread('/content/drive/MyDrive/Data/Keras_tutorial/horses/horse-64.jpg')\n",
        "test_image_1 = cv2.cvtColor(test_image_1, cv2.COLOR_BGR2GRAY)\n",
        "test_image_1 = cv2.resize(test_image_1,(128,128))\n",
        "test_image_1 = np.array(test_image_1)\n",
        "test_image_1 = test_image_1.astype('float32')\n",
        "test_image_1 /= 255\n",
        "print (test_image_1.shape)"
      ],
      "metadata": {
        "colab": {
          "base_uri": "https://localhost:8080/"
        },
        "id": "sbDnK3HnHRkZ",
        "outputId": "7292c035-004b-4fb4-d133-75e89aea0f80"
      },
      "execution_count": 185,
      "outputs": [
        {
          "output_type": "stream",
          "name": "stdout",
          "text": [
            "(128, 128)\n"
          ]
        }
      ]
    },
    {
      "cell_type": "code",
      "source": [
        "if num_channel==1:\n",
        "\tif K.image_data_format() =='th':\n",
        "\t\ttest_image_1= np.expand_dims(test_image_1, axis=1) \n",
        "\t\tprint(test_image_1.shape)\n",
        "\telse:\n",
        "\t\ttest_image_1 = np.expand_dims(test_image_1, axis=0) \n",
        "\t\tprint(test_image_1.shape)"
      ],
      "metadata": {
        "colab": {
          "base_uri": "https://localhost:8080/"
        },
        "id": "Mgc8w1vUHj-j",
        "outputId": "487d357a-b179-4345-8340-77dc21f3a5b8"
      },
      "execution_count": 186,
      "outputs": [
        {
          "output_type": "stream",
          "name": "stdout",
          "text": [
            "(1, 128, 128)\n"
          ]
        }
      ]
    },
    {
      "cell_type": "code",
      "source": [
        "# Predicting the test image\n",
        "\n",
        "prediction_2 = model.predict(test_image_1)\n",
        "print(prediction_2)\n",
        "classes_x = np.argmax(prediction_2,axis=1)\n",
        "print(classes_x)\n",
        "\n"
      ],
      "metadata": {
        "colab": {
          "base_uri": "https://localhost:8080/"
        },
        "id": "_whwy-cYH5Xe",
        "outputId": "6553ee69-094e-418e-c112-5b5cd4365bc8"
      },
      "execution_count": 187,
      "outputs": [
        {
          "output_type": "stream",
          "name": "stdout",
          "text": [
            "[[0.00587746 0.01970012 0.9569258  0.0174966 ]]\n",
            "[2]\n"
          ]
        }
      ]
    },
    {
      "cell_type": "code",
      "source": [
        "model.layers[0].input"
      ],
      "metadata": {
        "colab": {
          "base_uri": "https://localhost:8080/"
        },
        "id": "RsDsC7tVO2uz",
        "outputId": "87780350-78c8-410f-df64-cb55012a9124"
      },
      "execution_count": 188,
      "outputs": [
        {
          "output_type": "execute_result",
          "data": {
            "text/plain": [
              "<KerasTensor: shape=(None, 128, 128, 1) dtype=float32 (created by layer 'conv2d_3_input')>"
            ]
          },
          "metadata": {},
          "execution_count": 188
        }
      ]
    },
    {
      "cell_type": "code",
      "source": [
        "K.learning_phase()"
      ],
      "metadata": {
        "colab": {
          "base_uri": "https://localhost:8080/"
        },
        "id": "mQ17IA5IUGK2",
        "outputId": "08ae8e5e-b8eb-4665-f765-b7540faffe35"
      },
      "execution_count": 189,
      "outputs": [
        {
          "output_type": "execute_result",
          "data": {
            "text/plain": [
              "0"
            ]
          },
          "metadata": {},
          "execution_count": 189
        }
      ]
    },
    {
      "cell_type": "code",
      "source": [
        "model.layers[3].output"
      ],
      "metadata": {
        "colab": {
          "base_uri": "https://localhost:8080/"
        },
        "id": "XcHbVMCEUIH1",
        "outputId": "fdf126b6-cf6a-4218-b7da-1f8d702173c5"
      },
      "execution_count": 190,
      "outputs": [
        {
          "output_type": "execute_result",
          "data": {
            "text/plain": [
              "<KerasTensor: shape=(None, 14, 14, 32) dtype=float32 (created by layer 'activation_6')>"
            ]
          },
          "metadata": {},
          "execution_count": 190
        }
      ]
    },
    {
      "cell_type": "code",
      "source": [
        "# Visualizing the intermediate layer\n",
        "\n",
        "# from keras import backend as K\n",
        "\n",
        "# with a Sequential model\n",
        "get_3rd_layer_output = K.function([model.layers[0].input],\n",
        "                                  [model.layers[3].output])\n",
        "layer_output = get_3rd_layer_output([x])[0]"
      ],
      "metadata": {
        "id": "93nwuazbLf7h"
      },
      "execution_count": 205,
      "outputs": []
    },
    {
      "cell_type": "code",
      "source": [
        "print(np.shape(layer_output))"
      ],
      "metadata": {
        "colab": {
          "base_uri": "https://localhost:8080/"
        },
        "id": "TUcyKf2eXywD",
        "outputId": "649b2004-95e2-485f-9f99-0c5c43169239"
      },
      "execution_count": 210,
      "outputs": [
        {
          "output_type": "stream",
          "name": "stdout",
          "text": [
            "(818, 14, 14, 32)\n"
          ]
        }
      ]
    },
    {
      "cell_type": "code",
      "source": [
        "# Printing the confusion matrix\n",
        "from sklearn.metrics import classification_report,confusion_matrix\n",
        "import itertools"
      ],
      "metadata": {
        "id": "fm-nZatRYi35"
      },
      "execution_count": 212,
      "outputs": []
    },
    {
      "cell_type": "code",
      "source": [
        "Y_pred = model.predict(X_test)\n",
        "print(Y_pred)\n",
        "y_pred = np.argmax(Y_pred, axis=1)\n",
        "print(y_pred)\n",
        "#y_pred = model.predict_classes(X_test)\n",
        "#print(y_pred)\n",
        "target_names = ['class 0(cats)', 'class 1(Dogs)', 'class 2(Horses)','class 3(Humans)']\n",
        "\t\t\t\t\t\n",
        "print(classification_report(np.argmax(y_test,axis=1), y_pred,target_names=target_names))\n",
        "\n",
        "print(confusion_matrix(np.argmax(y_test,axis=1), y_pred))"
      ],
      "metadata": {
        "colab": {
          "base_uri": "https://localhost:8080/"
        },
        "id": "XC-F7H2hYqiS",
        "outputId": "daf5a9fc-54f8-475f-b035-78d55bbf2e65"
      },
      "execution_count": 214,
      "outputs": [
        {
          "output_type": "stream",
          "name": "stdout",
          "text": [
            "[[8.57887976e-03 8.41484293e-02 5.94833009e-02 8.47789407e-01]\n",
            " [2.32593101e-02 8.76416788e-02 7.90172517e-01 9.89264920e-02]\n",
            " [3.00553262e-01 3.72637898e-01 1.31992459e-01 1.94816411e-01]\n",
            " [1.15700513e-01 1.94622800e-01 5.66940904e-01 1.22735865e-01]\n",
            " [3.17232162e-01 3.73146564e-01 1.06311180e-01 2.03310058e-01]\n",
            " [1.60945863e-01 3.16371053e-01 3.17510068e-01 2.05173090e-01]\n",
            " [4.66655046e-01 2.76577920e-01 2.00525269e-01 5.62417209e-02]\n",
            " [9.78858098e-02 2.02217802e-01 3.69411707e-01 3.30484629e-01]\n",
            " [4.89353269e-01 3.17434967e-01 1.20690577e-01 7.25212321e-02]\n",
            " [9.30334814e-03 1.07051857e-01 3.61765921e-02 8.47468197e-01]\n",
            " [3.50840658e-01 3.86974603e-01 1.10332116e-01 1.51852667e-01]\n",
            " [1.12515382e-01 2.78864473e-01 2.41680920e-01 3.66939306e-01]\n",
            " [5.00786483e-01 2.89733768e-01 1.44430861e-01 6.50489107e-02]\n",
            " [3.33243161e-01 3.70842040e-01 1.38374135e-01 1.57540679e-01]\n",
            " [1.11535080e-01 1.55337811e-01 6.90901101e-01 4.22259830e-02]\n",
            " [5.24735034e-01 2.81295419e-01 1.42590567e-01 5.13789356e-02]\n",
            " [1.72901958e-01 2.51684040e-01 4.61096972e-01 1.14316992e-01]\n",
            " [4.70615685e-01 2.77788162e-01 1.92450523e-01 5.91456667e-02]\n",
            " [2.14334251e-03 3.43035646e-02 4.60670516e-02 9.17486072e-01]\n",
            " [4.47998971e-01 3.24581116e-01 1.43746689e-01 8.36732015e-02]\n",
            " [4.11023349e-02 1.71262279e-01 2.30002180e-01 5.57633221e-01]\n",
            " [3.83860052e-01 3.11037898e-01 2.29487404e-01 7.56146908e-02]\n",
            " [5.37098408e-01 2.89446890e-01 1.18892796e-01 5.45618609e-02]\n",
            " [1.53293803e-01 3.43700975e-01 1.31769285e-01 3.71236026e-01]\n",
            " [2.23188862e-01 2.99756110e-01 3.70491922e-01 1.06563143e-01]\n",
            " [5.33215225e-01 2.91761875e-01 1.18056208e-01 5.69666736e-02]\n",
            " [4.35901642e-01 3.48731637e-01 1.04710869e-01 1.10655963e-01]\n",
            " [4.88500059e-01 2.89511979e-01 1.58790097e-01 6.31978735e-02]\n",
            " [5.65384701e-02 2.11390510e-01 1.63754970e-01 5.68316042e-01]\n",
            " [4.99958277e-01 2.95699924e-01 1.39072523e-01 6.52692541e-02]\n",
            " [6.36422737e-06 1.37495366e-03 7.51475745e-04 9.97867227e-01]\n",
            " [4.60834742e-01 3.03525060e-01 1.57739013e-01 7.79012516e-02]\n",
            " [6.44655973e-02 1.35692492e-01 6.92156613e-01 1.07685313e-01]\n",
            " [4.68617901e-02 1.58190757e-01 5.57686269e-01 2.37261117e-01]\n",
            " [1.43216997e-02 9.80399847e-02 6.92443028e-02 8.18394005e-01]\n",
            " [2.09812932e-02 1.19985104e-01 2.41457187e-02 8.34887922e-01]\n",
            " [3.88737500e-01 3.54006141e-01 1.14624023e-01 1.42632306e-01]\n",
            " [3.81527573e-01 2.59300679e-01 2.97898263e-01 6.12734854e-02]\n",
            " [4.12834436e-02 9.22468975e-02 8.14653635e-01 5.18159680e-02]\n",
            " [2.74475992e-01 3.68208736e-01 9.78039205e-02 2.59511352e-01]\n",
            " [4.56029445e-01 2.98986405e-01 1.93129674e-01 5.18544018e-02]\n",
            " [5.33506691e-01 2.88553953e-01 1.22096919e-01 5.58425449e-02]\n",
            " [5.29548287e-01 2.86899030e-01 1.29158720e-01 5.43939769e-02]\n",
            " [5.24309337e-01 2.98936486e-01 1.16717435e-01 6.00367486e-02]\n",
            " [3.09673160e-01 3.54538500e-01 1.36051625e-01 1.99736640e-01]\n",
            " [2.94827223e-01 2.70544559e-01 3.69232625e-01 6.53955862e-02]\n",
            " [4.93469983e-01 3.05764675e-01 1.29882723e-01 7.08826259e-02]\n",
            " [2.55419046e-01 2.88843423e-01 3.57263237e-01 9.84742194e-02]\n",
            " [1.51595110e-02 1.00757815e-01 3.84904072e-02 8.45592201e-01]\n",
            " [2.79342741e-01 2.83253133e-01 3.63351017e-01 7.40531236e-02]\n",
            " [3.68292332e-01 2.71307111e-01 2.83933192e-01 7.64673352e-02]\n",
            " [4.05734718e-01 3.38383049e-01 1.43561006e-01 1.12321258e-01]\n",
            " [2.68076271e-01 3.66631985e-01 1.68079689e-01 1.97212011e-01]\n",
            " [3.33692789e-01 3.44625503e-01 1.61402985e-01 1.60278738e-01]\n",
            " [2.86162794e-01 2.80327797e-01 3.43970686e-01 8.95386785e-02]\n",
            " [4.81393486e-01 2.77683198e-01 1.86718151e-01 5.42051308e-02]\n",
            " [2.69342721e-01 3.23443502e-01 2.08423182e-01 1.98790610e-01]\n",
            " [6.33189455e-02 2.24526495e-01 6.96401596e-02 6.42514408e-01]\n",
            " [4.36542835e-03 5.98200485e-02 1.77229047e-01 7.58585453e-01]\n",
            " [5.20834446e-01 2.91212767e-01 1.27974808e-01 5.99779859e-02]\n",
            " [9.93349677e-05 5.00655500e-03 5.50093204e-02 9.39884782e-01]\n",
            " [4.81985033e-01 3.06259573e-01 1.43563613e-01 6.81917965e-02]\n",
            " [2.72919267e-01 3.70079756e-01 2.61994541e-01 9.50064361e-02]\n",
            " [5.26863098e-01 2.99521714e-01 1.13518439e-01 6.00968078e-02]\n",
            " [4.96193469e-01 3.12113196e-01 1.19656317e-01 7.20370188e-02]\n",
            " [5.17221093e-01 2.99482524e-01 1.22062691e-01 6.12337515e-02]\n",
            " [3.40596735e-01 2.83912688e-01 2.63505250e-01 1.11985333e-01]\n",
            " [4.64220583e-01 2.98401117e-01 1.70092270e-01 6.72859251e-02]\n",
            " [5.15726686e-01 3.02573413e-01 1.14088461e-01 6.76114857e-02]\n",
            " [4.37387168e-01 3.20397735e-01 1.68128073e-01 7.40870833e-02]\n",
            " [5.25137663e-01 2.86294669e-01 1.34231403e-01 5.43363020e-02]\n",
            " [1.00491963e-01 2.67529488e-01 1.99001104e-01 4.32977408e-01]\n",
            " [3.34691077e-01 3.73200566e-01 1.91429421e-01 1.00678928e-01]\n",
            " [4.73293513e-01 3.08570027e-01 1.47000164e-01 7.11362436e-02]\n",
            " [2.99616039e-01 2.71582723e-01 3.63742441e-01 6.50587380e-02]\n",
            " [5.14181495e-01 2.89382786e-01 1.37509093e-01 5.89267164e-02]\n",
            " [3.61632835e-03 7.10493401e-02 1.02204867e-01 8.23129475e-01]\n",
            " [1.78535894e-01 2.34549731e-01 4.92200941e-01 9.47134718e-02]\n",
            " [4.63250309e-01 2.76401997e-01 2.03180864e-01 5.71668558e-02]\n",
            " [1.64757594e-01 3.61676008e-01 1.16044529e-01 3.57521802e-01]\n",
            " [3.11822444e-01 2.70714909e-01 3.36289853e-01 8.11727270e-02]\n",
            " [4.67208117e-01 2.80705214e-01 1.91188812e-01 6.08978681e-02]\n",
            " [1.49361491e-02 1.15981594e-01 2.66254861e-02 8.42456758e-01]\n",
            " [3.43127370e-01 2.68614411e-01 3.13797086e-01 7.44610801e-02]\n",
            " [4.57509547e-01 2.89178878e-01 1.90800235e-01 6.25113025e-02]\n",
            " [4.18905431e-04 1.21133998e-02 1.15051772e-02 9.75962579e-01]\n",
            " [3.99736613e-01 3.36088151e-01 1.47342712e-01 1.16832525e-01]\n",
            " [3.42673898e-01 3.92281830e-01 1.45727590e-01 1.19316712e-01]\n",
            " [1.56532124e-01 3.32209200e-01 9.53724310e-02 4.15886313e-01]\n",
            " [4.77370918e-01 2.79180825e-01 1.81676343e-01 6.17719516e-02]\n",
            " [4.95154746e-02 8.17545727e-02 8.32188725e-01 3.65412496e-02]\n",
            " [5.23037374e-01 2.92480677e-01 1.26744971e-01 5.77370860e-02]\n",
            " [1.74050517e-02 1.24401875e-01 1.17037527e-01 7.41155505e-01]\n",
            " [4.30840164e-01 3.20609331e-01 1.61995679e-01 8.65548104e-02]\n",
            " [1.99719205e-01 2.81890750e-01 4.32995468e-01 8.53947178e-02]\n",
            " [4.17099148e-01 3.37868303e-01 1.69343308e-01 7.56892711e-02]\n",
            " [5.08665860e-01 2.88273573e-01 1.39184549e-01 6.38760775e-02]\n",
            " [4.64831978e-01 3.33776534e-01 1.10196546e-01 9.11949798e-02]\n",
            " [3.32189232e-01 3.04378092e-01 2.60190040e-01 1.03242628e-01]\n",
            " [8.64128172e-02 2.94597685e-01 5.83233535e-02 5.60666144e-01]\n",
            " [1.36651248e-01 2.23696098e-01 5.23702145e-01 1.15950517e-01]\n",
            " [2.10522771e-01 3.45127612e-01 1.46398291e-01 2.97951370e-01]\n",
            " [4.01744604e-01 2.55806118e-01 2.79750168e-01 6.26991689e-02]\n",
            " [1.78091258e-01 3.15460980e-01 1.19271599e-01 3.87176186e-01]\n",
            " [5.04684150e-02 2.43991211e-01 2.90920585e-01 4.14619803e-01]\n",
            " [2.14406908e-01 2.49736428e-01 3.80156606e-01 1.55700028e-01]\n",
            " [3.70447785e-01 2.70513833e-01 2.94700623e-01 6.43377155e-02]\n",
            " [4.65049475e-01 2.82688051e-01 1.97293982e-01 5.49684949e-02]\n",
            " [3.28016311e-01 3.34674269e-01 1.89378813e-01 1.47930652e-01]\n",
            " [5.18182933e-01 3.00578654e-01 1.17449187e-01 6.37891963e-02]\n",
            " [2.75526494e-01 3.31473440e-01 2.69792765e-01 1.23207249e-01]\n",
            " [1.81336388e-01 3.52670133e-01 1.51467755e-01 3.14525723e-01]\n",
            " [2.63672997e-03 2.79802438e-02 8.39237869e-01 1.30145133e-01]\n",
            " [5.91587797e-02 2.02379271e-01 3.62245917e-01 3.76215965e-01]\n",
            " [5.28438747e-01 2.86097556e-01 1.30758911e-01 5.47047816e-02]\n",
            " [1.49872318e-01 3.18839163e-01 2.60058075e-01 2.71230429e-01]\n",
            " [2.81048924e-01 3.50855112e-01 1.85137019e-01 1.82958931e-01]\n",
            " [2.10390240e-01 3.67092729e-01 1.17154054e-01 3.05362910e-01]\n",
            " [4.94752359e-03 4.91836742e-02 5.68030298e-01 3.77838463e-01]\n",
            " [7.88007900e-02 2.09666729e-01 5.43826580e-01 1.67705864e-01]\n",
            " [1.41951695e-01 3.17470253e-01 8.28249753e-02 4.57753062e-01]\n",
            " [2.39148900e-01 3.02930802e-01 3.45566630e-01 1.12353683e-01]\n",
            " [3.72610986e-01 3.03485006e-01 2.47396275e-01 7.65076950e-02]\n",
            " [2.85328835e-01 3.68814528e-01 1.37571916e-01 2.08284691e-01]\n",
            " [2.91198324e-02 1.32032663e-01 6.69386268e-01 1.69461310e-01]\n",
            " [2.50398010e-01 2.35983759e-01 4.40608472e-01 7.30097592e-02]\n",
            " [5.09910882e-01 3.02277565e-01 1.26179233e-01 6.16323501e-02]\n",
            " [4.59401943e-02 1.22065417e-01 7.51522124e-01 8.04722682e-02]\n",
            " [4.96353418e-01 2.87911147e-01 1.62922636e-01 5.28127290e-02]\n",
            " [4.03094828e-01 3.26039016e-01 1.80384278e-01 9.04818699e-02]\n",
            " [4.31960553e-01 2.61397690e-01 2.54989117e-01 5.16527668e-02]\n",
            " [2.48675704e-01 3.14813942e-01 3.46398890e-01 9.01114196e-02]\n",
            " [2.83289701e-01 2.29632646e-01 4.16181028e-01 7.08966628e-02]\n",
            " [2.38754228e-01 3.98475915e-01 1.04466349e-01 2.58303463e-01]\n",
            " [4.75624382e-01 2.83036858e-01 1.79798186e-01 6.15405925e-02]\n",
            " [4.82834041e-01 2.84447819e-01 1.71484977e-01 6.12331629e-02]\n",
            " [2.22054973e-01 3.63838643e-01 1.20199308e-01 2.93906987e-01]\n",
            " [1.29159659e-01 2.83978015e-01 1.59558356e-01 4.27303910e-01]\n",
            " [4.26165350e-02 2.48360187e-01 9.95739624e-02 6.09449267e-01]\n",
            " [1.29938629e-02 8.93321708e-02 4.79872286e-01 4.17801648e-01]\n",
            " [2.34932512e-01 2.91350245e-01 3.47759098e-01 1.25958160e-01]\n",
            " [5.18744946e-01 2.90789217e-01 1.32779658e-01 5.76862209e-02]\n",
            " [5.08723259e-01 2.90336043e-01 1.53717905e-01 4.72228378e-02]\n",
            " [1.41895725e-03 1.19796535e-02 9.62248027e-01 2.43534259e-02]\n",
            " [2.45245710e-01 3.13996911e-01 2.35500768e-01 2.05256596e-01]\n",
            " [4.62185472e-01 2.92943835e-01 1.94553077e-01 5.03176004e-02]\n",
            " [2.19770167e-02 1.20745428e-01 4.63538393e-02 8.10923696e-01]\n",
            " [3.37006859e-02 1.48574591e-01 1.38356566e-01 6.79368138e-01]\n",
            " [5.01867175e-01 2.87264347e-01 1.56071842e-01 5.47966510e-02]\n",
            " [2.09812932e-02 1.19985104e-01 2.41457187e-02 8.34887922e-01]\n",
            " [4.18905431e-04 1.21133998e-02 1.15051772e-02 9.75962579e-01]\n",
            " [4.65049475e-01 2.82688051e-01 1.97293982e-01 5.49684949e-02]\n",
            " [4.78260517e-01 3.21366191e-01 1.09907217e-01 9.04661343e-02]\n",
            " [2.83024669e-01 3.34553301e-01 2.38001108e-01 1.44420967e-01]\n",
            " [1.46988882e-02 5.57417236e-02 8.72967541e-01 5.65918237e-02]\n",
            " [2.41541982e-01 3.23961765e-01 1.92172468e-01 2.42323846e-01]\n",
            " [2.89207418e-02 1.47593990e-01 2.04566270e-01 6.18918955e-01]\n",
            " [5.05058765e-01 2.77959555e-01 1.66796401e-01 5.01852892e-02]\n",
            " [4.36752260e-01 3.24471414e-01 1.50970116e-01 8.78062248e-02]\n",
            " [3.35283726e-01 3.83943707e-01 9.19714496e-02 1.88801110e-01]\n",
            " [3.99465702e-04 1.34292860e-02 2.24497472e-03 9.83926237e-01]\n",
            " [4.78302568e-01 2.85541147e-01 1.69864804e-01 6.62914813e-02]\n",
            " [2.66992450e-01 3.06500852e-01 3.12557280e-01 1.13949426e-01]\n",
            " [1.11361787e-01 1.84005022e-01 6.23533309e-01 8.10998753e-02]]\n",
            "[3 2 1 2 1 2 0 2 0 3 1 3 0 1 2 0 2 0 3 0 3 0 0 3 2 0 0 0 3 0 3 0 2 2 3 3 0\n",
            " 0 2 1 0 0 0 0 1 2 0 2 3 2 0 0 1 1 2 0 1 3 3 0 3 0 1 0 0 0 0 0 0 0 0 3 1 0\n",
            " 2 0 3 2 0 1 2 0 3 0 0 3 0 1 3 0 2 0 3 0 2 0 0 0 0 3 2 1 0 3 3 2 0 0 1 0 1\n",
            " 1 2 3 0 1 1 1 2 2 3 2 0 1 2 2 0 2 0 0 0 2 2 1 0 0 1 3 3 2 2 0 0 2 1 0 3 3\n",
            " 0 3 3 0 0 1 2 1 3 0 0 1 3 0 2 2]\n",
            "                 precision    recall  f1-score   support\n",
            "\n",
            "  class 0(cats)       0.44      0.65      0.53        46\n",
            "  class 1(Dogs)       0.44      0.28      0.34        43\n",
            "class 2(Horses)       0.53      0.51      0.52        37\n",
            "class 3(Humans)       0.73      0.63      0.68        38\n",
            "\n",
            "       accuracy                           0.52       164\n",
            "      macro avg       0.54      0.52      0.52       164\n",
            "   weighted avg       0.53      0.52      0.51       164\n",
            "\n",
            "[[30  8  4  4]\n",
            " [22 12  6  3]\n",
            " [13  3 19  2]\n",
            " [ 3  4  7 24]]\n"
          ]
        }
      ]
    },
    {
      "cell_type": "code",
      "source": [
        "# Plotting the confusion matrix\n",
        "def plot_confusion_matrix(cm, classes,\n",
        "                          normalize=False,\n",
        "                          title='Confusion matrix',\n",
        "                          cmap=plt.cm.Blues):\n",
        "    \"\"\"\n",
        "    This function prints and plots the confusion matrix.\n",
        "    Normalization can be applied by setting `normalize=True`.\n",
        "    \"\"\"\n",
        "    plt.imshow(cm, interpolation='nearest', cmap=cmap)\n",
        "    plt.title(title)\n",
        "    plt.colorbar()\n",
        "    tick_marks = np.arange(len(classes))\n",
        "    plt.xticks(tick_marks, classes, rotation=45)\n",
        "    plt.yticks(tick_marks, classes)\n",
        "\n",
        "    if normalize:\n",
        "        cm = cm.astype('float') / cm.sum(axis=1)[:, np.newaxis]\n",
        "        print(\"Normalized confusion matrix\")\n",
        "    else:\n",
        "        print('Confusion matrix, without normalization')\n",
        "\n",
        "    print(cm)\n",
        "\n",
        "    thresh = cm.max() / 2.\n",
        "    for i, j in itertools.product(range(cm.shape[0]), range(cm.shape[1])):\n",
        "        plt.text(j, i, cm[i, j],\n",
        "                 horizontalalignment=\"center\",\n",
        "                 color=\"white\" if cm[i, j] > thresh else \"black\")\n",
        "\n",
        "    plt.tight_layout()\n",
        "    plt.ylabel('True label')\n",
        "    plt.xlabel('Predicted label')"
      ],
      "metadata": {
        "id": "UoJyRYXdYtVk"
      },
      "execution_count": 215,
      "outputs": []
    },
    {
      "cell_type": "code",
      "source": [
        "# Compute confusion matrix\n",
        "cnf_matrix = (confusion_matrix(np.argmax(y_test,axis=1), y_pred))\n",
        "\n",
        "np.set_printoptions(precision=2)\n",
        "\n",
        "plt.figure()\n",
        "\n",
        "# Plot non-normalized confusion matrix\n",
        "plot_confusion_matrix(cnf_matrix, classes=target_names,\n",
        "                      title='Confusion matrix')\n",
        "#plt.figure()\n",
        "# Plot normalized confusion matrix\n",
        "#plot_confusion_matrix(cnf_matrix, classes=target_names, normalize=True,\n",
        "#                      title='Normalized confusion matrix')\n",
        "#plt.figure()\n",
        "plt.show()\n"
      ],
      "metadata": {
        "colab": {
          "base_uri": "https://localhost:8080/",
          "height": 593
        },
        "id": "qJo4T-yYY-sM",
        "outputId": "69e72d29-8d07-44d1-bf85-3e8c2ab2b7b1"
      },
      "execution_count": 216,
      "outputs": [
        {
          "output_type": "stream",
          "name": "stdout",
          "text": [
            "Confusion matrix, without normalization\n",
            "[[30  8  4  4]\n",
            " [22 12  6  3]\n",
            " [13  3 19  2]\n",
            " [ 3  4  7 24]]\n"
          ]
        },
        {
          "output_type": "display_data",
          "data": {
            "text/plain": [
              "<Figure size 640x480 with 2 Axes>"
            ],
            "image/png": "[encoded data removed]"
          },
          "metadata": {}
        }
      ]
    },
    {
      "cell_type": "code",
      "source": [
        "# Saving and loading model and weights\n",
        "from keras.models import model_from_json\n",
        "from keras.models import load_model\n",
        "\n",
        "# serialize model to JSON\n",
        "model_json = model.to_json()\n",
        "with open(\"/content/drive/MyDrive/Keras_files_callbacks/keras_save_weights/model.json\", \"w\") as json_file:\n",
        "    json_file.write(model_json)\n",
        "# serialize weights to HDF5\n",
        "model.save_weights(\"/content/drive/MyDrive/Keras_files_callbacks/keras_save_weights/model.h5\")\n",
        "print(\"Saved model to disk\")\n",
        "\n",
        "# load json and create model\n",
        "json_file = open('/content/drive/MyDrive/Keras_files_callbacks/keras_save_weights/model.json', 'r')\n",
        "loaded_model_json = json_file.read()\n",
        "json_file.close()\n",
        "loaded_model = model_from_json(loaded_model_json)\n",
        "# load weights into new model\n",
        "loaded_model.load_weights(\"/content/drive/MyDrive/Keras_files_callbacks/keras_save_weights/model.h5\")\n",
        "print(\"Loaded model from disk\")\n",
        "\n",
        "model.save('/content/drive/MyDrive/Keras_files_callbacks/keras_save_weights/model.h5')\n",
        "loaded_model=load_model('/content/drive/MyDrive/Keras_files_callbacks/keras_save_weights/model.h5')"
      ],
      "metadata": {
        "colab": {
          "base_uri": "https://localhost:8080/"
        },
        "id": "epylDKNzZFHQ",
        "outputId": "113a7198-ce05-4985-f535-3de279b04803"
      },
      "execution_count": 221,
      "outputs": [
        {
          "output_type": "stream",
          "name": "stdout",
          "text": [
            "Saved model to disk\n",
            "Loaded model from disk\n"
          ]
        }
      ]
    }
  ]
}